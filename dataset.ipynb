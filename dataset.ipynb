{
  "nbformat": 4,
  "nbformat_minor": 0,
  "metadata": {
    "colab": {
      "name": "dataset.ipynb",
      "provenance": [],
      "collapsed_sections": []
    },
    "kernelspec": {
      "name": "python3",
      "display_name": "Python 3"
    },
    "language_info": {
      "name": "python"
    }
  },
  "cells": [
    {
      "cell_type": "code",
      "execution_count": null,
      "metadata": {
        "id": "fzTxkA6m_8_o"
      },
      "outputs": [],
      "source": [
        "import numpy as np\n",
        "import torch\n",
        "\n",
        "import torchvision\n",
        "from torchvision import transforms\n",
        "from torch.utils import data"
      ]
    },
    {
      "cell_type": "code",
      "source": [
        "def get_dataloader_workers():\n",
        "    \"\"\"use 4 thread to read data\"\"\"\n",
        "    return 2"
      ],
      "metadata": {
        "id": "jyv9FfDAAnaH"
      },
      "execution_count": null,
      "outputs": []
    },
    {
      "cell_type": "code",
      "source": [
        "def load_data_fashion_mnist(is_train,augs,batch_size):\n",
        "    dataset = torchvision.datasets.FashionMNIST(root=\"./data/\",train=is_train,\n",
        "                                           transform=augs,download=True)\n",
        "    dataLoader = data.DataLoader(\n",
        "        dataset,batch_size=batch_size,shuffle=is_train,num_workers=get_dataloader_workers()\n",
        "    )\n",
        "    return dataLoader"
      ],
      "metadata": {
        "id": "yDOPkQoFAKYH"
      },
      "execution_count": null,
      "outputs": []
    },
    {
      "cell_type": "code",
      "source": [
        "def load_cifar10(is_train,augs,batch_size):\n",
        "    dataset = torchvision.datasets.CIFAR10(root=\"./data/\",train=is_train,\n",
        "                                           transform=augs,download=True)\n",
        "    dataLoader = data.DataLoader(\n",
        "        dataset,batch_size=batch_size,shuffle=is_train,num_workers=get_dataloader_workers()\n",
        "    )\n",
        "    return dataLoader"
      ],
      "metadata": {
        "id": "NftAMuR6XOM7"
      },
      "execution_count": null,
      "outputs": []
    },
    {
      "cell_type": "code",
      "source": [
        "def load_cifar100(is_train,augs,batch_size):\n",
        "    dataset = torchvision.datasets.CIFAR100(root=\"./data/\",train=is_train,\n",
        "                                           transform=augs,download=True)\n",
        "    dataLoader = data.DataLoader(\n",
        "        dataset,batch_size=batch_size,shuffle=is_train,num_workers=get_dataloader_workers()\n",
        "    )\n",
        "    return dataLoader"
      ],
      "metadata": {
        "id": "R6Na2AgJ1JWs"
      },
      "execution_count": null,
      "outputs": []
    }
  ]
}