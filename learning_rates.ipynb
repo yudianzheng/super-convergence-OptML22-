{
  "nbformat": 4,
  "nbformat_minor": 0,
  "metadata": {
    "colab": {
      "name": "learning_rates.ipynb",
      "provenance": [],
      "collapsed_sections": []
    },
    "kernelspec": {
      "name": "python3",
      "display_name": "Python 3"
    },
    "language_info": {
      "name": "python"
    }
  },
  "cells": [
    {
      "cell_type": "code",
      "execution_count": null,
      "metadata": {
        "id": "U4L8aR37MiET"
      },
      "outputs": [],
      "source": [
        "import numpy as np\n",
        "import torch\n",
        "import torch.nn as nn\n",
        "\n",
        "from IPython import display\n",
        "import matplotlib.pyplot as plt\n",
        "import time\n",
        "\n",
        "import torchvision\n",
        "from PIL import Image"
      ]
    },
    {
      "cell_type": "code",
      "source": [
        "def CyclicLR(step, base_lr=0.001, max_lr=0.006, step_size=2000):\n",
        "  single = step % step_size\n",
        "  if single > step_size/2:\n",
        "    down = single - step_size/2\n",
        "    return max_lr - (max_lr - base_lr)*(down/step_size)\n",
        "  else:\n",
        "    up = single\n",
        "    return base_lr + (max_lr - base_lr)*(up/step_size)"
      ],
      "metadata": {
        "id": "4TXYVQDPgPeZ"
      },
      "execution_count": null,
      "outputs": []
    }
  ]
}